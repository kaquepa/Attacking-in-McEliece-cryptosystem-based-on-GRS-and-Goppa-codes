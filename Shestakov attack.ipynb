{
 "cells": [
  {
   "cell_type": "code",
   "execution_count": 17,
   "metadata": {},
   "outputs": [],
   "source": [
    "import numpy as np\n",
    "import sympy as sp\n",
    "from sympy import *\n"
   ]
  },
  {
   "cell_type": "markdown",
   "metadata": {},
   "source": [
    "Parametros da matriz geradora.\n"
   ]
  },
  {
   "cell_type": "code",
   "execution_count": 18,
   "metadata": {},
   "outputs": [],
   "source": [
    "Mod = 11 \n",
    "def inverse_mod(number, mod = Mod):\n",
    "    for value in range(1, mod):\n",
    "        if (   (  ( number % mod   )  * ( value % mod) ) % mod == 1   ):\n",
    "            return value\n",
    "def zeros_matrix(rows, cols):\n",
    "   \n",
    "    M = []\n",
    "    while len(M) < rows:\n",
    "        M.append([])\n",
    "        while len(M[-1]) < cols:\n",
    "            M[-1].append(0.0)\n",
    "\n",
    "    return M\n",
    "def matrix_multiply(matrix_A,matrix_B,mod= Mod):\n",
    "   \n",
    "    rowsA = len(matrix_A)\n",
    "    colsA = len(matrix_A[0])\n",
    "\n",
    "    rowsB = len(matrix_B)\n",
    "    colsB = len(matrix_B[0])\n",
    "\n",
    "    if colsA != rowsB:\n",
    "        raise ArithmeticError('Number of A columns must equal number of B rows.')\n",
    "\n",
    "    C = zeros_matrix(rowsA, colsB)\n",
    "\n",
    "    for i in range(rowsA):\n",
    "        for j in range(colsB):\n",
    "            total = 0\n",
    "            for ii in range(colsA):\n",
    "                total += matrix_A[i][ii] * matrix_B[ii][j] \n",
    "            C[i][j] = total % mod\n",
    "\n",
    "    return C\n",
    "def delete_row_column(matrix, i, j):\n",
    "    rows = len(matrix)\n",
    "    columns = len(matrix[0])\n",
    "    return [[matrix[row][col] for col in range(columns) if col != j] for row in range(rows) if row != i]\n",
    "def minor(matrix, i, j):\n",
    "    matrix = delete_row_column(matrix, i, j)\n",
    "    return determinant(matrix)\n",
    "def determinant(matrix, mod= Mod):\n",
    "    assert len(matrix) == len(matrix[0]), \"matrix should be square\"\n",
    "    order = len(matrix)\n",
    "    if order == 1:\n",
    "        return matrix[0][0] % mod\n",
    "    elif order == 2:\n",
    "        det = (matrix[0][0] * matrix[1][1]) - (matrix[0][1] * matrix[1][0])  # ad - bc\n",
    "        return det % mod\n",
    "    else:\n",
    "        det = 0\n",
    "        for i in range(order):\n",
    "            coefficient = matrix[0][i]\n",
    "            if i % 2 == 1:\n",
    "                coefficient *= -1\n",
    "            det += coefficient * minor(matrix, 0, i)\n",
    "        return det%Mod\n",
    "def transpose(matrix, mod = Mod):\n",
    "    rows = len(matrix)\n",
    "    columns = len(matrix[0])\n",
    "    return [[matrix[row][col] % mod for row in range(rows)] for col in range(columns)]\n",
    "def inverse_matrix(matrix, mod = 11):\n",
    "    assert len(matrix) == len(matrix[0]), \"matrix should be square\"\n",
    "    order = len(matrix)\n",
    "\n",
    "    det = determinant(matrix)\n",
    "    cofactors = []\n",
    "    for i in range(order):\n",
    "        cofactors_row = []\n",
    "        for j in range(order):\n",
    "            coefficient = -1 if (i % 2) ^ (j % 2) else 1  # For the chequered pattern of + and -\n",
    "            cofactors_row.append((coefficient % mod) * minor(matrix, i, j))\n",
    "        cofactors.append(cofactors_row)\n",
    "\n",
    "    adjugate = transpose(cofactors)\n",
    "    inv_mod = inverse_mod (det) \n",
    "    inverse = [[(element * inv_mod ) % mod for element in row] for row in adjugate]  # Divide by determinant(Multiplicar pela inversa do determinate)\n",
    "    return inverse\n",
    "def is_echelon_form(matrix_rref):\n",
    "    diagonal = list()\n",
    "    for i in range(k):\n",
    "        # verificar as diagonais\n",
    "        diagonal.append( matrix_rref[i,i] )\n",
    "    if sum(diagonal) == k:\n",
    "        return True\n",
    "    else:\n",
    "        return False\n",
    "def Generate_S_invertible(G):\n",
    "    np.random.seed(109557)\n",
    "    condition = True\n",
    "    dim = G.shape[0]\n",
    "    while condition:\n",
    "        S = np.mod(np.random.permutation( dim * dim   ).reshape(dim  , dim ),Mod)\n",
    "        if np.linalg.det(S)  !=0:\n",
    "            condition = False\n",
    "    return  S\n",
    "def generate_permutation_matrix(G):\n",
    "    # Generate a random permutation of the indices\n",
    "    permutation = np.random.permutation(G.shape[1])\n",
    "    # Create a permutation matrix using the permutation of indices\n",
    "    permutation_matrix = np.eye(G.shape[1], dtype=int)[permutation]\n",
    "    return permutation_matrix.astype(int)\n",
    "def Transform_echelon_Matrix_mod(x, Mod):\n",
    "    numer, denom = x.as_numer_denom()\n",
    "    return numer * sp.mod_inverse(denom, Mod) % Mod\n",
    "def echelon_form(matrix):\n",
    "    matrix = sp.Matrix(matrix)\n",
    "    #Find row-reduced echolon form of matrix modulo 13:\n",
    "    matrix_rref = matrix.rref( iszerofunc = lambda x: x % Mod ==0)[0].applyfunc(lambda x:  Transform_echelon_Matrix_mod(x,Mod)   )\n",
    "    row, cols =  matrix_rref.shape  \n",
    "    if is_echelon_form(matrix_rref):\n",
    "        return np.array( matrix_rref ).astype(int), True\n",
    "    else:\n",
    "        return np.array( matrix_rref ).astype(int),False"
   ]
  },
  {
   "cell_type": "code",
   "execution_count": 19,
   "metadata": {},
   "outputs": [],
   "source": [
    "alpha = np.array([8, 2 , 1,  7, 9, 3, 6, 4, 5])\n",
    "beta  = np.array([9, 6,  8 , 5, 2, 10, 7, 2, 7])\n",
    "message = [5, 4, 1, 3]\n",
    "t = 3\n",
    "\n",
    "\n",
    "\n",
    "error = np.zeros(len(beta ), dtype = int)\n",
    "for i in range(len(beta)):\n",
    "    if i < t:\n",
    "        aux = np.random.randint(0, Mod)\n",
    "        if error[i] == 0:\n",
    "            error[i] = aux\n",
    "        else:\n",
    "            error[i] = 0\n",
    "    pass\n",
    "n = len(alpha)\n",
    "k = len(message)\n",
    "np.random.shuffle(error)\n",
    "\n",
    " "
   ]
  },
  {
   "cell_type": "code",
   "execution_count": 20,
   "metadata": {},
   "outputs": [],
   "source": [
    "\n",
    "\n",
    "Generator_Matrix = np.zeros((k,n), dtype = int)\n",
    "message = np.array([ 4,5,2,8] ) \n",
    "for i in range(k):\n",
    "    for j in range(n):\n",
    "        Generator_Matrix[i, j] = np.mod((int((beta[j]*(alpha[j])**i))), Mod) \n",
    "\n"
   ]
  },
  {
   "cell_type": "code",
   "execution_count": 21,
   "metadata": {},
   "outputs": [
    {
     "data": {
      "text/plain": [
       "array([11,  0,  6,  8,  4,  7,  5,  7,  6])"
      ]
     },
     "execution_count": 21,
     "metadata": {},
     "output_type": "execute_result"
    }
   ],
   "source": [
    "Public_key  = np.mod( np.dot(np.mod(np.dot(Generate_S_invertible(Generator_Matrix), Generator_Matrix), Mod) , generate_permutation_matrix(Generator_Matrix)), Mod)\n",
    "c =   np.mod(np.dot(message ,Public_key ), Mod) \n",
    "y = c + error\n",
    "y\n",
    " \n"
   ]
  },
  {
   "cell_type": "code",
   "execution_count": 22,
   "metadata": {},
   "outputs": [
    {
     "data": {
      "text/plain": [
       "array([[ 1,  0,  0,  0,  2, 10,  8,  2,  5],\n",
       "       [ 0,  1,  0,  0,  4,  3,  1,  9,  4],\n",
       "       [ 0,  0,  1,  0,  6,  1,  6,  4,  9],\n",
       "       [ 0,  0,  0,  1,  6,  6, 10,  1,  1]])"
      ]
     },
     "execution_count": 22,
     "metadata": {},
     "output_type": "execute_result"
    }
   ],
   "source": [
    "Echelon_Matrix,_ = echelon_form(Public_key)\n",
    "Echelon_Matrix\n",
    " "
   ]
  },
  {
   "cell_type": "markdown",
   "metadata": {},
   "source": [
    "Encontrar os valores de alfas.\n",
    "| $d$ | $\\bar{\\alpha}_1$ | $\\bar{\\alpha}_2$ | $\\bar{\\alpha}_3$ | $\\bar{\\alpha}_4$ | $\\bar{\\alpha}_5$ | $\\bar{\\alpha}_6$ | $\\bar{\\alpha}_7$ | $\\bar{\\alpha}_8$ | $\\bar{\\alpha}_9$ |\n",
    "|-----|------------------|------------------|------------------|------------------|------------------|------------------|------------------|------------------|------------------|\n",
    "| 1   | 0                | 1                | 10               | 5                | 2                | 9                | 3                | 6                | 7                |\n",
    "| 2   | 0                | 1                | 10               | 5                | 5                | 4                | 7                | 10               | 10               |\n"
   ]
  },
  {
   "cell_type": "code",
   "execution_count": 23,
   "metadata": {},
   "outputs": [
    {
     "data": {
      "text/plain": [
       "([0, 1, 10, 5, 2], array([4, 0, 6, 8, 4, 6, 5, 7, 5]))"
      ]
     },
     "execution_count": 23,
     "metadata": {},
     "output_type": "execute_result"
    }
   ],
   "source": [
    "alphas_list = {\"d1\": [0,1,10,5,2,9,3,6,7], \"d2\": [0,1,10,5,5,4,7,10,10]}\n",
    "y = np.mod( np.dot(message,Public_key ), Mod)\n",
    "c, alpha = [ y[i] for i in range(k + 1) ], list()\n",
    "for i in range( len(alphas_list[\"d1\"])):\n",
    "    if i < k + 1:\n",
    "       alpha.append(  (alphas_list[\"d1\"])[i] )\n",
    "alpha, y\n",
    "         \n",
    "    "
   ]
  },
  {
   "cell_type": "code",
   "execution_count": 24,
   "metadata": {},
   "outputs": [
    {
     "data": {
      "text/plain": [
       "array([[ 9,  8,  0,  2,  7],\n",
       "       [ 1,  8,  3,  7,  6],\n",
       "       [ 1,  2,  5,  1,  2],\n",
       "       [ 2,  7, 10,  5,  1]])"
      ]
     },
     "execution_count": 24,
     "metadata": {},
     "output_type": "execute_result"
    }
   ],
   "source": [
    "\"\"\"  k + 1 colunas da chave publica\"\"\"\n",
    "M_linha_1  = np.zeros( (k, k + 1) ).astype(int) \n",
    "for rows in range(k):\n",
    "    for cols in range(k + 1):\n",
    "        M_linha_1[rows, cols] = Public_key[rows, cols]\n",
    "\n",
    "M_linha_1"
   ]
  },
  {
   "cell_type": "markdown",
   "metadata": {},
   "source": [
    "9c1 + 8c2+  0c3 +  2c4 +  7c5 = 0,\n",
    "1c1 + 8c2+  3c3 +  7c4 +  6c5 = 0,\n",
    "1c1 + 2c2+  5c3 +  1c4 +  2c5 = 0,\n",
    "2c1 + 7c2+ 10c3 +  5c4 +  1c5 = 0\n"
   ]
  },
  {
   "cell_type": "markdown",
   "metadata": {},
   "source": [
    "Encontrar a solução trivial de M'c = 0\n",
    "\n",
    "\n",
    "Supondo que c1 = 1"
   ]
  },
  {
   "cell_type": "code",
   "execution_count": null,
   "metadata": {},
   "outputs": [],
   "source": []
  },
  {
   "cell_type": "code",
   "execution_count": 25,
   "metadata": {},
   "outputs": [
    {
     "name": "stdout",
     "output_type": "stream",
     "text": [
      "[1 2 3 3 5]\n"
     ]
    }
   ],
   "source": [
    "M = np.array([[8,  0,  2, 7],\n",
    "             [8,  3,  7, 6],\n",
    "             [2,  5,  1, 2], \n",
    "             [7,  10, 5, 1]])\n",
    "\n",
    "c = np.array([ [-9%11],[-1%11],[-1%11],[-2%11]\n",
    "\n",
    "])\n",
    "sol = np.mod(np.dot(np.mod(inverse_matrix(M), Mod), c), Mod)\n",
    "\n",
    "solution_c = np.zeros(k + 1).astype(int)\n",
    "solution_c[0] = 1\n",
    "for index, i in enumerate(sol):\n",
    "    solution_c[index + 1] = i[0]  \n",
    "print(solution_c)"
   ]
  },
  {
   "cell_type": "code",
   "execution_count": 26,
   "metadata": {},
   "outputs": [
    {
     "data": {
      "text/plain": [
       "array([[ 1,  2,  3,  3,  5],\n",
       "       [ 0,  2,  8,  4, 10],\n",
       "       [ 0,  2,  3,  9,  9],\n",
       "       [ 0,  2,  8,  1,  7]])"
      ]
     },
     "execution_count": 26,
     "metadata": {},
     "output_type": "execute_result"
    }
   ],
   "source": [
    "alpha\n",
    "G_linha1 = np.zeros((k,k+1)).astype(int) \n",
    "for i in range(k):\n",
    "    for j in range(k+1):\n",
    "        G_linha1[i, j] = np.mod((int((solution_c[j]*(alpha[j])**i))), Mod) \n",
    "G_linha1"
   ]
  },
  {
   "cell_type": "code",
   "execution_count": 27,
   "metadata": {},
   "outputs": [
    {
     "name": "stdout",
     "output_type": "stream",
     "text": [
      "[1 9 5 6 5]\n"
     ]
    }
   ],
   "source": [
    "A = np.array([[ 2,  3,  3,  5],\n",
    "             [ 2,  8,  4, 10],\n",
    "             [ 2,  3,  9,  9],\n",
    "             [ 2,  8,  1,  7]])\n",
    "b = np.array([[10],[0],[0],[0]])\n",
    "\n",
    "\n",
    "sol = np.mod(np.dot(np.mod(inverse_matrix(A), Mod), b), Mod)\n",
    "\n",
    "\n",
    "\n",
    "betas_novo = np.zeros(k + 1).astype(int)\n",
    "betas_novo[0] = 1\n",
    "for index, i in enumerate(sol):\n",
    "    betas_novo[index + 1] = i[0]  \n",
    "print(betas_novo)\n",
    "\n",
    "\n",
    "\n"
   ]
  },
  {
   "cell_type": "code",
   "execution_count": 28,
   "metadata": {},
   "outputs": [
    {
     "data": {
      "text/plain": [
       "array([[ 1,  9,  5,  6,  5],\n",
       "       [ 0,  9,  6,  8, 10],\n",
       "       [ 0,  9,  5,  7,  9],\n",
       "       [ 0,  9,  6,  2,  7]])"
      ]
     },
     "execution_count": 28,
     "metadata": {},
     "output_type": "execute_result"
    }
   ],
   "source": [
    "G_tilda1 = np.zeros((k,k +1)).astype(int) \n",
    "for i in range(k):\n",
    "    for j in range(k + 1):\n",
    "        G_tilda1[i, j] = np.mod((int((betas_novo[j]*(alpha[j])**i))), Mod) \n",
    "\n",
    "G_tilda1"
   ]
  },
  {
   "cell_type": "code",
   "execution_count": 29,
   "metadata": {},
   "outputs": [
    {
     "data": {
      "text/plain": [
       "array([[ 9,  3,  0,  6],\n",
       "       [ 1,  5,  5,  7],\n",
       "       [ 1,  8, 10,  2],\n",
       "       [ 2,  8,  0,  3]])"
      ]
     },
     "execution_count": 29,
     "metadata": {},
     "output_type": "execute_result"
    }
   ],
   "source": [
    "G_tilda2 = G_tilda1[:,:k]\n",
    "M_linha2 = Public_key[:,:k]\n",
    "G_tilda2 = G_tilda1[:,:k]\n",
    "Matrix_S = np.mod(  np.dot(M_linha2, inverse_matrix(G_tilda2, Mod))   ,Mod) \n",
    "\n",
    "Matrix_S\n",
    " "
   ]
  },
  {
   "cell_type": "code",
   "execution_count": 30,
   "metadata": {},
   "outputs": [
    {
     "data": {
      "text/plain": [
       "array([[ 1,  0,  0,  0],\n",
       "       [ 9,  9,  9,  9],\n",
       "       [ 5,  6,  5,  6],\n",
       "       [ 6,  8,  7,  2],\n",
       "       [ 5, 10,  9,  7],\n",
       "       [ 1,  4,  8,  1],\n",
       "       [ 8,  4, 10, 10],\n",
       "       [10,  3,  9,  8],\n",
       "       [ 4, 10,  0,  4]])"
      ]
     },
     "execution_count": 30,
     "metadata": {},
     "output_type": "execute_result"
    }
   ],
   "source": [
    "G_tilda= np.mod(np.dot(inverse_matrix(Matrix_S, Mod),Public_key), Mod)\n",
    "G_tilda\n",
    "\n",
    "np.mod(    transpose(G_tilda), Mod)"
   ]
  },
  {
   "cell_type": "code",
   "execution_count": 31,
   "metadata": {},
   "outputs": [
    {
     "data": {
      "text/plain": [
       "array([[ 9,  8,  0,  2,  7,  5,  1,  4,  2],\n",
       "       [ 1,  8,  3,  7,  6,  2,  5,  5,  5],\n",
       "       [ 1,  2,  5,  1,  2,  5,  6,  8,  4],\n",
       "       [ 2,  7, 10,  5,  1,  4,  1,  2,  1]])"
      ]
     },
     "execution_count": 31,
     "metadata": {},
     "output_type": "execute_result"
    }
   ],
   "source": [
    "Public_key_recovery = np.mod(np.dot(Matrix_S, G_tilda ),Mod)\n",
    "Public_key_recovery"
   ]
  },
  {
   "cell_type": "code",
   "execution_count": 32,
   "metadata": {},
   "outputs": [
    {
     "name": "stdout",
     "output_type": "stream",
     "text": [
      "[9 8 0 2 7 5 1 4 2] \t\t [9 8 0 2 7 5 1 4 2]\n",
      "[1 8 3 7 6 2 5 5 5] \t\t [1 8 3 7 6 2 5 5 5]\n",
      "[1 2 5 1 2 5 6 8 4] \t\t [1 2 5 1 2 5 6 8 4]\n",
      "[ 2  7 10  5  1  4  1  2  1] \t\t [ 2  7 10  5  1  4  1  2  1]\n"
     ]
    }
   ],
   "source": [
    "for i, j in zip(Public_key_recovery, Public_key):\n",
    "    print(i , \"\\t\\t\", j)"
   ]
  }
 ],
 "metadata": {
  "kernelspec": {
   "display_name": "Python 3",
   "language": "python",
   "name": "python3"
  },
  "language_info": {
   "codemirror_mode": {
    "name": "ipython",
    "version": 3
   },
   "file_extension": ".py",
   "mimetype": "text/x-python",
   "name": "python",
   "nbconvert_exporter": "python",
   "pygments_lexer": "ipython3",
   "version": "3.12.4"
  }
 },
 "nbformat": 4,
 "nbformat_minor": 4
}
