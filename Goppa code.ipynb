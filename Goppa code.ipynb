{
 "cells": [
  {
   "cell_type": "code",
   "execution_count": 1,
   "metadata": {},
   "outputs": [],
   "source": [
    "import numpy as np\n",
    "import random\n",
    "import os\n",
    "import time\n",
    "from sage.rings.finite_rings.finite_field_constructor import FiniteField\n",
    "from sage.rings.polynomial.polynomial_ring_constructor import PolynomialRing\n",
    "from sage.coding.goppa_code import GoppaCode\n",
    "import math\n",
    "from itertools import combinations\n",
    "from datetime import datetime\n",
    "\n"
   ]
  },
  {
   "cell_type": "code",
   "execution_count": 2,
   "metadata": {},
   "outputs": [],
   "source": [
    "class Generate_goppa_code():\n",
    "    def __init__(self, m , t):\n",
    "            self.n = int( 2**(m) )\n",
    "            self.m = m\n",
    "            self.t = t\n",
    "            self.k = int( self.n - self.m * self.t)\n",
    "            self.modulus = 2\n",
    "            \n",
    "            self.iteration_dict = { \"McEliece_iteration\":0 ,\"LeeBrickell_iteration\": 0, \"Leon_iteration\":0     }\n",
    "    def is_irreducible(saelf, poly, field):\n",
    "            # Check if the polynomial is irreducible over the given field\n",
    "            return poly.is_irreducible()\n",
    "        \n",
    "    def generate_random_goppa_code(self):\n",
    "            F = FiniteField(2^self.m)\n",
    "            R.<x>= PolynomialRing(F)\n",
    "            dim = 0\n",
    "            iter_err = 0\n",
    "\n",
    "            # Gets the directory of the script. Note: replace \"final_26.ipynb\" with the actual script name\n",
    "            diretorio_script = os.path.dirname(os.path.abspath(\"Goppa code.ipynb\"))\n",
    "            # Sets up the path for the 'Results' folder in the script's directory\n",
    "            folder_name = f'results {datetime.now().strftime(\"%Y-%m-%d\")}'\n",
    "            self.folder_path = os.path.join(diretorio_script, folder_name)\n",
    "            if not os.path.exists(self.folder_path):\n",
    "                 os.makedirs(self.folder_path)\n",
    "            # Creates the 'Results' folder if it does not already exist\n",
    "            if not os.path.exists(self.folder_path):\n",
    "                os.makedirs(self.folder_path)\n",
    "            while dim != self.n - self.m*self.t:\n",
    "                while iter_err < 2^10:\n",
    "                    iter_err += 1\n",
    "                    g = R.irreducible_element(self.t)\n",
    "                    \n",
    "                    if g.is_irreducible():\n",
    "                        L = [a for a in F.list() if g(a)!= 0]\n",
    "                        #print(\"dim:\", len(L), \"\\n\")\n",
    "                        #print([a for a in F.list() if g(a)!= 0])\n",
    "                        np.random.shuffle(L)\n",
    "                        C = codes.GoppaCode(g,L[:self.n])\n",
    "                        dim = C.dimension()\n",
    "                        if dim == self.n - self.m*self.t:\n",
    "                            parity, generator = C.parity_check_matrix(), C.generator_matrix()\n",
    "                            # Create a filename for saving the graph's adjacency matrix\n",
    "                            filename_generator = f\"Generator Matrix {int(self.k)}_{self.n}.txt\"\n",
    "                            filename_parity    = f\"Parity Matrix {int(self.n - self.k)}_{int(self.n)}.txt\"\n",
    "                            # Write the adjacency matrix to a file in the specified folder\n",
    "                            for filename in [filename_generator, filename_parity ]:\n",
    "                                with open(os.path.join(self.folder_path, filename), 'w') as file:\n",
    "                                    file.write(f\"{self.n}\\n\")  # Write the number of n\n",
    "                                    file.write(f\"{self.k}\\n\")     # Write the number of k\n",
    "                                    file.write(f\"{self.t}\\n\") \n",
    "                                    # Write each row of the adjacency matrix to the file\n",
    "                                    for row in generator:\n",
    "                                        file.write(' '.join(map(str, row)) + '\\n')\n",
    "                                    generator = parity\n",
    "                          \n",
    "                            #print(iter_err, \"trials untils  generated\")\n",
    "                            return C.parity_check_matrix(),C.generator_matrix()  \n",
    "            return False\n",
    "    \n",
    "\n"
   ]
  },
  {
   "cell_type": "code",
   "execution_count": 3,
   "metadata": {},
   "outputs": [],
   "source": [
    "parameters = {\"m\":[5, 6],\"t\":[4, 4]}\n",
    "for m , t in zip(parameters[\"m\"], parameters[\"t\"]):\n",
    "    goppa_code = Generate_goppa_code(m, t)\n",
    "    goppa_code.generate_random_goppa_code()\n"
   ]
  }
 ],
 "metadata": {
  "kernelspec": {
   "display_name": "SageMath 10.3",
   "language": "sage",
   "name": "SageMath-10.3"
  },
  "language_info": {
   "codemirror_mode": {
    "name": "ipython",
    "version": 3
   },
   "file_extension": ".py",
   "mimetype": "text/x-python",
   "name": "python",
   "nbconvert_exporter": "python",
   "pygments_lexer": "ipython3",
   "version": "3.11.8"
  }
 },
 "nbformat": 4,
 "nbformat_minor": 2
}
