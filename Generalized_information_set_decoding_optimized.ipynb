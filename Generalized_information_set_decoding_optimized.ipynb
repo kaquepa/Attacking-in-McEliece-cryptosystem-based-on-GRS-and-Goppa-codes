{
 "cells": [
  {
   "cell_type": "markdown",
   "metadata": {},
   "source": [
    "Código Goppa"
   ]
  },
  {
   "cell_type": "code",
   "execution_count": 17,
   "metadata": {},
   "outputs": [],
   "source": [
    "\n",
    "# bibliotecas\n",
    "import numpy as np\n",
    "import random\n",
    "from sage.rings.finite_rings.finite_field_constructor import FiniteField\n",
    "from sage.rings.polynomial.polynomial_ring_constructor import PolynomialRing\n",
    "from sage.coding.goppa_code import GoppaCode\n",
    "import math\n",
    "from itertools import combinations, permutations\n",
    "from sage.all import Integer\n",
    "from numpy.linalg import matrix_rank\n"
   ]
  },
  {
   "cell_type": "code",
   "execution_count": 18,
   "metadata": {},
   "outputs": [],
   "source": [
    "# verificar se o polinomio é irredutivel\n",
    "def is_irreducible(poly, field):\n",
    "    # Check if the polynomial is irreducible over the given field\n",
    "    return poly.is_irreducible()"
   ]
  },
  {
   "cell_type": "code",
   "execution_count": 19,
   "metadata": {},
   "outputs": [],
   "source": [
    "def verificar_input(m,t):\n",
    "    if (m < 0 ) or (t < 0):\n",
    "        return False\n",
    "    else:\n",
    "        return True"
   ]
  },
  {
   "cell_type": "code",
   "execution_count": 20,
   "metadata": {},
   "outputs": [],
   "source": [
    "def generate_random_goppa_code(m, t):\n",
    "    if verificar_input(m, t):\n",
    "        n = 2**(m)\n",
    "        F = FiniteField(2**m)\n",
    "        R.<x> = PolynomialRing(F)\n",
    "        max_iterations=(2**10)\n",
    "        dim = 0\n",
    "        iter_err = 0\n",
    "\n",
    "        while dim != n - m * t and iter_err < max_iterations:\n",
    "            iter_err += 1\n",
    "            g = R.irreducible_element(t)\n",
    "\n",
    "            if g.is_irreducible():\n",
    "                L = [a for a in F.list() if g(a) != 0]\n",
    "                np.random.shuffle(L)\n",
    "                C = GoppaCode(g, L[:n])\n",
    "                dim = C.dimension()\n",
    "\n",
    "                if dim == n - m * t:\n",
    "                    print(iter_err, \"trials until generated\")\n",
    "                    generator_matrix = np.array( [ [  int(entry) for entry in row  ] for row in C.generator_matrix().change_ring(F)  ], dtype= int )\n",
    "                    return dim, generator_matrix, np.linalg.matrix_rank(generator_matrix)\n",
    "\n",
    "        return \"Failure during the generation of Goppa code. Try it again\"\n",
    "    else:\n",
    "        return \"Invalid input\""
   ]
  },
  {
   "cell_type": "code",
   "execution_count": null,
   "metadata": {},
   "outputs": [],
   "source": []
  },
  {
   "cell_type": "code",
   "execution_count": 21,
   "metadata": {},
   "outputs": [
    {
     "name": "stdout",
     "output_type": "stream",
     "text": [
      "1 trials until generated\n",
      "Dimension of the code: 12\n",
      "Rank of the Generator Matrix: 12\n"
     ]
    },
    {
     "data": {
      "text/plain": [
       "(12, 32)"
      ]
     },
     "execution_count": 21,
     "metadata": {},
     "output_type": "execute_result"
    }
   ],
   "source": [
    "m = 5\n",
    "t = 4 \n",
    "dim, generator_matrix, rank = generate_random_goppa_code(m, t)\n",
    "print(\"Dimension of the code:\", dim)\n",
    "print(\"Rank of the Generator Matrix:\", rank)\n",
    "generator_matrix.shape"
   ]
  },
  {
   "cell_type": "code",
   "execution_count": 22,
   "metadata": {},
   "outputs": [
    {
     "name": "stdout",
     "output_type": "stream",
     "text": [
      "32 12\n"
     ]
    }
   ],
   "source": [
    "def Generate_S_invertible():\n",
    "    condition = True\n",
    "    dim = generator_matrix.shape[0]\n",
    "    while condition:\n",
    "        S = np.mod(np.random.permutation( dim * dim   ).reshape(dim  , dim ),2)\n",
    "        if np.linalg.det(S)  !=0:\n",
    "            condition = False\n",
    "    return  S\n",
    "def generate_permutation_matrix ():\n",
    "     # Crie uma matriz de identidade\n",
    "    identity_matrix = np.eye(generator_matrix.shape[1], dtype=int)\n",
    "\n",
    "    # Gere uma permutação aleatória das linhas\n",
    "    permutation = np.random.permutation(generator_matrix.shape[1])\n",
    "\n",
    "    # Crie a matriz de permutação\n",
    "    permutation_matrix = identity_matrix[permutation]\n",
    "    return  permutation_matrix\n",
    "def generate_random_message_vector():\n",
    "    return [np.random.choice([0, 1]) for _ in range(  generator_matrix.shape[0 ]   )]\n",
    "def generate_random_error_vector():\n",
    "    import random\n",
    "    control = True\n",
    "    while control:\n",
    "        binary_numbers_of_t_error = [ random.randint(0, 1) for _ in range(t)    ]\n",
    "        if hamming_weight( binary_numbers_of_t_error ) == 0:\n",
    "            control == False\n",
    "        else:\n",
    "            control =False\n",
    "\n",
    "    dimension_vetor = [0]*generator_matrix.shape[1]\n",
    "    for value in binary_numbers_of_t_error:\n",
    "        random_position = np.random.choice( range(len(dimension_vetor)))\n",
    "        dimension_vetor[random_position ] = value\n",
    "\n",
    "    return dimension_vetor\n",
    "def hamming_weight(binary_sequence):\n",
    "    return sum(1 for bit in binary_sequence if bit == 1)\n",
    "def binary_xor(vector1, vector2):\n",
    "    result = []\n",
    "    if len(vector1) != len(vector2):\n",
    "        raise ValueError(\"Os vetores devem ter o mesmo comprimento\")\n",
    "    for i in range(   len(vector1) ):\n",
    "        if  vector1[i] == vector2[i] :\n",
    "            result.append( 0 )\n",
    "        else:\n",
    "            result.append( 1 )\n",
    "\n",
    "    return result\n",
    "\n",
    "#G = SGP\n",
    "Public_key = np.matmul((np.matmul(Generate_S_invertible() ,generator_matrix ) )  , generate_permutation_matrix ()  ) % 2\n",
    "print(  np.linalg.matrix_rank( generate_permutation_matrix () ) , np.linalg.matrix_rank( generator_matrix)  )"
   ]
  },
  {
   "cell_type": "code",
   "execution_count": 23,
   "metadata": {},
   "outputs": [],
   "source": [
    "def verificar_inversa_public_key(indices_aleatorios):\n",
    "    # Converte a matriz para o tipo de dados 'int'\n",
    "    matrix_I = np.array( Public_key )[:, indices_aleatorios].astype(int)\n",
    "    if np.linalg.det( matrix_I ) != 0:\n",
    "        return True\n",
    "    else:\n",
    "        return False"
   ]
  },
  {
   "cell_type": "code",
   "execution_count": 24,
   "metadata": {},
   "outputs": [],
   "source": [
    "random_error_vector    =   generate_random_error_vector()\n",
    "weight                 =   hamming_weight( random_error_vector  )\n",
    "message                =   generate_random_message_vector()\n",
    "message_G              =   np.dot(message, Public_key  ) % 2\n",
    "ciphertext             =   binary_xor( message_G ,   random_error_vector ) \n"
   ]
  },
  {
   "cell_type": "code",
   "execution_count": 25,
   "metadata": {},
   "outputs": [],
   "source": [
    "def GISD(Public_key, ciphertext, weight, j ):\n",
    "    control = True\n",
    "    # gerar um novo vector de erro aleatorio( este erro é diferente do erro que foi usado para cifrar a mensagem)\n",
    "    random_error_vector =  generate_random_error_vector()\n",
    "\n",
    "    while control :\n",
    "        I =  np.random.choice(Public_key.shape[1], Public_key.shape[0], replace = False ) \n",
    "        error_vector_I = np.array([  random_error_vector[i] for i in  I ])\n",
    "        ciphertext_I = np.array([  ciphertext[i] for i in  I ])\n",
    "        # verificar se Public_key_I é invertivel\n",
    "        if verificar_inversa_public_key(I) == True:\n",
    "          \n",
    "            # se for invertivel\n",
    "            Q1 = np.array( Public_key )[:, I]\n",
    "            Q2 = np.dot(Q1, Public_key ) % 2\n",
    "            z = binary_xor( ciphertext, np.dot(ciphertext_I,Q2) % 2 )\n",
    "          \n",
    "            for value in range(j + 1):\n",
    "                if hamming_weight( error_vector_I  ) == value:\n",
    "                    if  hamming_weight(   binary_xor(z, np.dot(error_vector_I, Q2 )%2 ) ) == weight:\n",
    "                        control = False\n",
    "                        message_recovery = (np.dot((binary_xor( ciphertext_I,error_vector_I )), Q1)% 2)\n",
    "                        comparacao = [message[i] == message_recovery [i] for i in range(len( message_recovery  ))]\n",
    "                        #print(  message_recovery , \"\\t\", message )\n",
    "                        if all(comparacao):\n",
    "                            print(\"message_recovery:\",message_recovery , \"\\t original message:\", message)\n",
    "                            return True\n",
    "                        else:\n",
    "                            return 0 # will repeat again\n",
    "        else:\n",
    "            pass        "
   ]
  },
  {
   "cell_type": "code",
   "execution_count": 26,
   "metadata": {},
   "outputs": [
    {
     "name": "stdout",
     "output_type": "stream",
     "text": [
      "message_recovery: [0 1 0 0 1 0 0 1 0 1 0 1] \t original message: [0, 1, 0, 0, 1, 0, 0, 1, 0, 1, 0, 1]\n",
      "Success Attack \n"
     ]
    }
   ],
   "source": [
    "\n",
    "def run():\n",
    "    # j <= weight\n",
    "    condition = True\n",
    "    while condition:\n",
    "        verificou = GISD(Public_key, ciphertext,weight, j = weight  ) \n",
    "        if verificou == True:\n",
    "            condition = False\n",
    "            print( \"Success Attack \"  )\n",
    "        else:\n",
    "            condition = True\n",
    "run()\n"
   ]
  },
  {
   "cell_type": "code",
   "execution_count": null,
   "metadata": {},
   "outputs": [],
   "source": []
  }
 ],
 "metadata": {
  "kernelspec": {
   "display_name": "SageMath 10.3",
   "language": "sage",
   "name": "SageMath-10.3"
  },
  "language_info": {
   "codemirror_mode": {
    "name": "ipython",
    "version": 3
   },
   "file_extension": ".py",
   "mimetype": "text/x-python",
   "name": "python",
   "nbconvert_exporter": "python",
   "pygments_lexer": "ipython3",
   "version": "3.11.8"
  }
 },
 "nbformat": 4,
 "nbformat_minor": 2
}
